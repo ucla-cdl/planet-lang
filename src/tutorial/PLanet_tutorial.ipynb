{
 "cells": [
  {
   "cell_type": "markdown",
   "metadata": {},
   "source": [
    "# PLanet tutorial \n",
    "Welcome! This is a tutorial for PLanet. We will walk through examples defining\n",
    "experimental designs as a program. You will learn some of Planet's operations\n",
    "and observe the output of PLanet programs. Let's begin!\n"
   ]
  },
  {
   "cell_type": "code",
   "execution_count": null,
   "metadata": {},
   "outputs": [],
   "source": [
    "# First, import the PLanet library\n",
    "from planet import ExperimentVariable, Design, Units, assign, nest"
   ]
  },
  {
   "cell_type": "markdown",
   "metadata": {},
   "source": [
    "## Step 1: Defining Experiment Variables\n",
    "Before constructing a design, we need to know which to include in the experiment. $ExperimentVariables$ in PLanet represent independent and control\n",
    "variables. In the following example, Interface is the name of the variable, and there\n",
    "are three interface conditions (options): baseline, VR, and AR."
   ]
  },
  {
   "cell_type": "code",
   "execution_count": null,
   "metadata": {},
   "outputs": [],
   "source": [
    "\n",
    "interface = ExperimentVariable(\"interface\", options=[\"baseline\", \"VR\", \"AR\"])"
   ]
  },
  {
   "cell_type": "markdown",
   "metadata": {},
   "source": [
    "Now, create a variable called *task* with three levels: run, walk, and sprint. "
   ]
  },
  {
   "cell_type": "code",
   "execution_count": null,
   "metadata": {},
   "outputs": [],
   "source": [
    "task = ExperimentVariable(\"\", options=[])"
   ]
  },
  {
   "cell_type": "markdown",
   "metadata": {},
   "source": [
    "We also need to identify the experimental units in the study. Often,\n",
    "experimental units are participants. We will assign variable conditions to these\n",
    "units. Let's sample 12 participants:"
   ]
  },
  {
   "cell_type": "code",
   "execution_count": null,
   "metadata": {},
   "outputs": [],
   "source": [
    "# Replace n with the number of units in our study (12)\n",
    "participants = Units(n)"
   ]
  },
  {
   "cell_type": "markdown",
   "metadata": {},
   "source": [
    "## Step 2: Creating a Design\n",
    "Now that we've defined our experiment variables, we can start constructing a design. The most\n",
    "basic design in PLanet is a between-subjects design with one experiment\n",
    "variable. First, let's instantiate a *Design* that includes interface as a\n",
    "between-subjects variable:\n"
   ]
  },
  {
   "cell_type": "code",
   "execution_count": null,
   "metadata": {},
   "outputs": [],
   "source": [
    "# a between subjects design\n",
    "design = (\n",
    "    Design()\n",
    "        .between_subjects() # include interface as an argument \n",
    ")"
   ]
  },
  {
   "cell_type": "markdown",
   "metadata": {},
   "source": [
    "Between-subjects designs assign one condition to each *unit*. By default, the\n",
    "conditions are randomly assigned to units. Run the cell below and observe the output:"
   ]
  },
  {
   "cell_type": "code",
   "execution_count": null,
   "metadata": {},
   "outputs": [],
   "source": [
    "# Our first assignment procedure\n",
    "print(assign(participants, design))"
   ]
  },
  {
   "cell_type": "markdown",
   "metadata": {},
   "source": [
    "Notice that some conditions may be assigned more often than others. The mapping\n",
    "of pid to plan should change each time based on the random assignment. To ensure\n",
    "an equal number of participants are assigned to each condition, we can add a\n",
    "counterbalancing constraint:"
   ]
  },
  {
   "cell_type": "code",
   "execution_count": null,
   "metadata": {},
   "outputs": [],
   "source": [
    "# Now let's create a within-subjects design instead.\n",
    "\n",
    "design = (\n",
    "    design\n",
    "        .counterbalance(interface)\n",
    ")"
   ]
  },
  {
   "cell_type": "code",
   "execution_count": null,
   "metadata": {},
   "outputs": [],
   "source": [
    "print(assign(participants, design))"
   ]
  },
  {
   "cell_type": "markdown",
   "metadata": {},
   "source": [
    "## Step 3: Within-subjects Designs\n",
    "Now, we can explore more complicated designs. A variable is within-subjects in\n",
    "an experiment if a participant is assigned two or more of it's conditions. Let's\n",
    "construct a new design with interface as a within-subjects variable:"
   ]
  },
  {
   "cell_type": "code",
   "execution_count": null,
   "metadata": {},
   "outputs": [],
   "source": [
    "design = (\n",
    "    Design()\n",
    "        .within_subjects() # include interface as argument\n",
    ")"
   ]
  },
  {
   "cell_type": "markdown",
   "metadata": {},
   "source": [
    "The following output shows the result of assigning conditions using a\n",
    "within-subjects design. Each unit is assigned all three conditions, which appear\n",
    "in different orders."
   ]
  },
  {
   "cell_type": "code",
   "execution_count": null,
   "metadata": {},
   "outputs": [],
   "source": [
    "print(assign(participants, design))"
   ]
  },
  {
   "cell_type": "markdown",
   "metadata": {},
   "source": [
    "Theoretically, there is a chance\n",
    "that we assign every unit the same order! Counterbalancing prevents this by\n",
    "enforcing that every condition appears an equal number of times:"
   ]
  },
  {
   "cell_type": "code",
   "execution_count": null,
   "metadata": {},
   "outputs": [],
   "source": [
    "design = (\n",
    "    design\n",
    "        .counterbalance() # include interface as an argument\n",
    ")"
   ]
  },
  {
   "cell_type": "code",
   "execution_count": null,
   "metadata": {},
   "outputs": [],
   "source": [
    "print(assign(participants, design))"
   ]
  },
  {
   "cell_type": "markdown",
   "metadata": {},
   "source": [
    "PLanet first constructs all viable plans, and then maps each plan the the\n",
    "experimental unit. "
   ]
  },
  {
   "cell_type": "markdown",
   "metadata": {},
   "source": [
    "By default, the design assigns every condition to each unit. We can define a\n",
    "design where we assign two conditions to each unit and there are three\n",
    "conditions: "
   ]
  },
  {
   "cell_type": "code",
   "execution_count": null,
   "metadata": {},
   "outputs": [],
   "source": [
    "design = (design\n",
    "          .num_trials(2)\n",
    ")\n",
    "\n",
    "print(assign(participants, design))\n"
   ]
  },
  {
   "cell_type": "markdown",
   "metadata": {},
   "source": [
    "## Step 4: Latin square Designs\n",
    "This introduces a new operation that allows you to construct Latin\n",
    "squares. Latin squares are a particular type of counterbalanced design, where\n",
    "every condition appears in every position of an order once. So, for\n",
    "counterbalanced designs with three conditions, there are only three possible\n",
    "orders. We will start with a regular counterbalanced design: "
   ]
  },
  {
   "cell_type": "code",
   "execution_count": null,
   "metadata": {},
   "outputs": [],
   "source": [
    "task = ExperimentVariable(\n",
    "    name = \"task\",\n",
    "    options=[\"run\", \"walk\", \"sprint\"]\n",
    ")\n",
    "\n",
    "task_design = (\n",
    "    Design()\n",
    "    .within_subjects(task)\n",
    "    .counterbalance(task)\n",
    ")\n"
   ]
  },
  {
   "cell_type": "markdown",
   "metadata": {},
   "source": [
    "This is a fully-counterbalanced design. We can constrain the design using the\n",
    "*limit_plans* operation to create a Latin square:"
   ]
  },
  {
   "cell_type": "code",
   "execution_count": null,
   "metadata": {},
   "outputs": [],
   "source": [
    "design = (\n",
    "    design\n",
    "    .limit_groups(len(task))\n",
    ")"
   ]
  },
  {
   "cell_type": "markdown",
   "metadata": {},
   "source": [
    "When we run the assignment procedure, PLanet constructs three plans, ensuring\n",
    "that the task conditions are counterbalanced:"
   ]
  },
  {
   "cell_type": "code",
   "execution_count": null,
   "metadata": {},
   "outputs": [],
   "source": [
    "print(assign(participants, design))"
   ]
  },
  {
   "cell_type": "markdown",
   "metadata": {},
   "source": [
    "## Step 5: Composing Designs\n",
    "Great! We created two designs that specify assignment procedures for different\n",
    "variable. We can also compose these procedures into one design using *nest* and\n",
    "*cross* This section introduces *nest*."
   ]
  },
  {
   "cell_type": "markdown",
   "metadata": {},
   "source": [
    "### Nesting\n",
    "Nest creates a new design based on the constraints of two subdesigns (i.e.,\n",
    "$task\\_design$ and $interface\\_design$). The possible plans specified by the\n",
    "*inner* design are nested within each trial of the *outer* design. \n",
    "\n",
    "\n",
    "![Nesting](nest.png)"
   ]
  },
  {
   "cell_type": "code",
   "execution_count": null,
   "metadata": {},
   "outputs": [],
   "source": [
    "design = nest(inner=design, outer=task_design)"
   ]
  },
  {
   "cell_type": "markdown",
   "metadata": {},
   "source": [
    "Let's examine the possible plans:"
   ]
  },
  {
   "cell_type": "code",
   "execution_count": null,
   "metadata": {},
   "outputs": [],
   "source": [
    "print(assign(participants, design))"
   ]
  },
  {
   "cell_type": "markdown",
   "metadata": {},
   "source": [
    "## Step 6: Replication\n",
    "Sometimes, we want to assign the same experimental condition multiple times. We can replicate\n",
    "conditions by nesting a non-empty design with an *empty* design. Empty designs\n",
    "assign arbitrary conditions to users. To define an empty design, we do not\n",
    "include any variables in the experiment. The number of trials will indicate the\n",
    "number of replications after nesting the empty design. "
   ]
  },
  {
   "cell_type": "code",
   "execution_count": null,
   "metadata": {},
   "outputs": [],
   "source": [
    "block = (\n",
    "    Design()\n",
    "    .num_trials(2)\n",
    ")\n",
    "\n",
    "design = nest(inner=block, outer=task_design)"
   ]
  },
  {
   "cell_type": "markdown",
   "metadata": {},
   "source": [
    "This repeats each condition in-a-row ([a, b] -> [a, a, b, b]).\n",
    "Alternatively, we could repeat the orders ([a, b] -> [a, b, a, b])"
   ]
  },
  {
   "cell_type": "code",
   "execution_count": null,
   "metadata": {},
   "outputs": [],
   "source": [
    "block = (\n",
    "    Design()\n",
    "    .num_trials(2)\n",
    ")\n",
    "\n",
    "design = nest(inner=task_design, outer=block)\n"
   ]
  },
  {
   "cell_type": "markdown",
   "metadata": {},
   "source": [
    "## Step 6: $set\\_rank$\n",
    "Lastly, we invite you to explore the $set\\_rank$ operation. *Ranks* determine the order\n",
    "presedence of variable conditons. The default rank is 0 for all conditions of a\n",
    "variable. Higher-ranked conditions come before all lower-ranked conditions in\n",
    "within-subjects designs. For example, if we set the rank of baseline to 1, baseline\n",
    "always\n",
    "comes first. Run the code and observe the output: "
   ]
  },
  {
   "cell_type": "code",
   "execution_count": null,
   "metadata": {},
   "outputs": [],
   "source": [
    "task = ExperimentVariable(\n",
    "    name = \"task\",\n",
    "    options=[\"run\", \"walk\", \"sprint\"]\n",
    ")\n",
    "\n",
    "participants = Units(4)\n",
    "\n",
    "task_design = (\n",
    "    Design()\n",
    "    .within_subjects(task)\n",
    "    .absolute_rank(task, \"run\", 1)\n",
    ")\n",
    "\n",
    "print(assign(participants, task_design))"
   ]
  },
  {
   "cell_type": "markdown",
   "metadata": {},
   "source": [
    "Notice that walk and sprint can appear in any order, as long as they both come run. "
   ]
  },
  {
   "cell_type": "markdown",
   "metadata": {},
   "source": [
    "## Conclusion\n",
    "Congrats! You're done with the tutorial. Now that you're familiar with PLanet's core features, try authoring your own experimental design from scratch using the starter code! Don't worry if you didn't remember everything.\n",
    "You can always reference the tutorial again, and we invite you to reference the\n",
    "documentation for further information. "
   ]
  }
 ],
 "metadata": {
  "kernelspec": {
   "display_name": "venv",
   "language": "python",
   "name": "python3"
  },
  "language_info": {
   "codemirror_mode": {
    "name": "ipython",
    "version": 3
   },
   "file_extension": ".py",
   "mimetype": "text/x-python",
   "name": "python",
   "nbconvert_exporter": "python",
   "pygments_lexer": "ipython3",
   "version": "3.11.0"
  }
 },
 "nbformat": 4,
 "nbformat_minor": 2
}
