{
 "cells": [
  {
   "cell_type": "markdown",
   "metadata": {},
   "source": [
    "# PLanet tutorial \n",
    "Welcome! This is a tutorial for PLanet. We will walk through examples defining\n",
    "experimental designs as a program. You will learn some of Planet's operations\n",
    "and observe the output of PLanet programs. Let's begin!\n"
   ]
  },
  {
   "cell_type": "code",
   "execution_count": 8,
   "metadata": {},
   "outputs": [],
   "source": [
    "# First, import the PLanet library\n",
    "from planet import ExperimentVariable, Design, Units, assign, nest"
   ]
  },
  {
   "cell_type": "markdown",
   "metadata": {},
   "source": [
    "## Step 1: Defining Experiment Variables\n",
    "Before constructing a design, we need to know which to include in the experiment. $ExperimentVariables$ in PLanet represent independent and control\n",
    "variables. In the following example, Interface is the name of the variable, and there\n",
    "are three interface conditions (options): baseline, VR, and AR."
   ]
  },
  {
   "cell_type": "code",
   "execution_count": null,
   "metadata": {},
   "outputs": [],
   "source": [
    "\n",
    "interface = ExperimentVariable(\"interface\", options=[\"baseline\", \"VR\", \"AR\"])"
   ]
  },
  {
   "cell_type": "markdown",
   "metadata": {},
   "source": [
    "Now, create a variable called *task* with three levels: run, walk, and sprint. "
   ]
  },
  {
   "cell_type": "code",
   "execution_count": 9,
   "metadata": {},
   "outputs": [
    {
     "ename": "AssertionError",
     "evalue": "",
     "output_type": "error",
     "traceback": [
      "\u001b[31m---------------------------------------------------------------------------\u001b[39m",
      "\u001b[31mAssertionError\u001b[39m                            Traceback (most recent call last)",
      "\u001b[36mCell\u001b[39m\u001b[36m \u001b[39m\u001b[32mIn[9]\u001b[39m\u001b[32m, line 1\u001b[39m\n\u001b[32m----> \u001b[39m\u001b[32m1\u001b[39m task = \u001b[43mExperimentVariable\u001b[49m\u001b[43m(\u001b[49m\u001b[33;43m\"\u001b[39;49m\u001b[33;43m\"\u001b[39;49m\u001b[43m,\u001b[49m\u001b[43m \u001b[49m\u001b[43moptions\u001b[49m\u001b[43m=\u001b[49m\u001b[43m[\u001b[49m\u001b[43m]\u001b[49m\u001b[43m)\u001b[49m\n",
      "\u001b[36mFile \u001b[39m\u001b[32m~/Documents/projects/ucla/experimental-design-dsl/src/planet/variable.py:18\u001b[39m, in \u001b[36mExperimentVariable.__init__\u001b[39m\u001b[34m(self, name, num_options, options)\u001b[39m\n\u001b[32m     15\u001b[39m \u001b[38;5;28;01mdef\u001b[39;00m\u001b[38;5;250m \u001b[39m\u001b[34m__init__\u001b[39m(\u001b[38;5;28mself\u001b[39m, name, num_options=\u001b[32m0\u001b[39m, options = []):\n\u001b[32m     16\u001b[39m     \u001b[38;5;66;03m# should we use argv or kwargs in place of a list?\u001b[39;00m\n\u001b[32m---> \u001b[39m\u001b[32m18\u001b[39m     \u001b[38;5;28;01massert\u001b[39;00m \u001b[38;5;28mlen\u001b[39m(options) > \u001b[32m0\u001b[39m \u001b[38;5;129;01mor\u001b[39;00m num_options > \u001b[32m0\u001b[39m\n\u001b[32m     20\u001b[39m     num_options = \u001b[38;5;28mlen\u001b[39m(options) \u001b[38;5;28;01mif\u001b[39;00m num_options == \u001b[32m0\u001b[39m \u001b[38;5;28;01melse\u001b[39;00m num_options\n\u001b[32m     22\u001b[39m     \u001b[38;5;28;01massert\u001b[39;00m num_options == \u001b[38;5;28mlen\u001b[39m(options) \u001b[38;5;129;01mor\u001b[39;00m \u001b[38;5;28mlen\u001b[39m(options) == \u001b[32m0\u001b[39m\n",
      "\u001b[31mAssertionError\u001b[39m: "
     ]
    }
   ],
   "source": [
    "task = ExperimentVariable(\"\", options=[])"
   ]
  },
  {
   "cell_type": "markdown",
   "metadata": {},
   "source": [
    "We also need to identify the experimental units in the study. Often,\n",
    "experimental units are participants. We will assign variable conditions to these\n",
    "units. Let's sample 12 participants:"
   ]
  },
  {
   "cell_type": "code",
   "execution_count": 12,
   "metadata": {},
   "outputs": [
    {
     "ename": "NameError",
     "evalue": "name 'n' is not defined",
     "output_type": "error",
     "traceback": [
      "\u001b[31m---------------------------------------------------------------------------\u001b[39m",
      "\u001b[31mNameError\u001b[39m                                 Traceback (most recent call last)",
      "\u001b[36mCell\u001b[39m\u001b[36m \u001b[39m\u001b[32mIn[12]\u001b[39m\u001b[32m, line 2\u001b[39m\n\u001b[32m      1\u001b[39m \u001b[38;5;66;03m# Replace n with the number of units in our study (12)\u001b[39;00m\n\u001b[32m----> \u001b[39m\u001b[32m2\u001b[39m participants = Units(\u001b[43mn\u001b[49m)\n",
      "\u001b[31mNameError\u001b[39m: name 'n' is not defined"
     ]
    }
   ],
   "source": [
    "# Replace n with the number of units in our study (12)\n",
    "participants = Units(n)"
   ]
  },
  {
   "cell_type": "markdown",
   "metadata": {},
   "source": [
    "## Step 2: Creating a Design\n",
    "Now that we've defined our experiment variables, we can start constructing a design. The most\n",
    "basic design in PLanet is a between-subjects design with one experiment\n",
    "variable. First, let's instantiate a *Design* that includes interface as a\n",
    "between-subjects variable:\n"
   ]
  },
  {
   "cell_type": "code",
   "execution_count": 13,
   "metadata": {},
   "outputs": [
    {
     "ename": "TypeError",
     "evalue": "Design.between_subjects() missing 1 required positional argument: 'variable'",
     "output_type": "error",
     "traceback": [
      "\u001b[31m---------------------------------------------------------------------------\u001b[39m",
      "\u001b[31mTypeError\u001b[39m                                 Traceback (most recent call last)",
      "\u001b[36mCell\u001b[39m\u001b[36m \u001b[39m\u001b[32mIn[13]\u001b[39m\u001b[32m, line 4\u001b[39m\n\u001b[32m      1\u001b[39m \u001b[38;5;66;03m# a between subjects design\u001b[39;00m\n\u001b[32m      2\u001b[39m design = (\n\u001b[32m      3\u001b[39m     \u001b[43mDesign\u001b[49m\u001b[43m(\u001b[49m\u001b[43m)\u001b[49m\n\u001b[32m----> \u001b[39m\u001b[32m4\u001b[39m \u001b[43m        \u001b[49m\u001b[43m.\u001b[49m\u001b[43mbetween_subjects\u001b[49m\u001b[43m(\u001b[49m\u001b[43m)\u001b[49m \u001b[38;5;66;03m# include interface as an argument \u001b[39;00m\n\u001b[32m      5\u001b[39m )\n",
      "\u001b[31mTypeError\u001b[39m: Design.between_subjects() missing 1 required positional argument: 'variable'"
     ]
    }
   ],
   "source": [
    "# a between subjects design\n",
    "design = (\n",
    "    Design()\n",
    "        .between_subjects() # include interface as an argument \n",
    ")"
   ]
  },
  {
   "cell_type": "markdown",
   "metadata": {},
   "source": [
    "Between-subjects designs assign one condition to each *unit*. By default, the\n",
    "conditions are randomly assigned to units. Run the cell below and observe the output:"
   ]
  },
  {
   "cell_type": "code",
   "execution_count": 14,
   "metadata": {},
   "outputs": [
    {
     "ename": "NameError",
     "evalue": "name 'design' is not defined",
     "output_type": "error",
     "traceback": [
      "\u001b[31m---------------------------------------------------------------------------\u001b[39m",
      "\u001b[31mNameError\u001b[39m                                 Traceback (most recent call last)",
      "\u001b[36mCell\u001b[39m\u001b[36m \u001b[39m\u001b[32mIn[14]\u001b[39m\u001b[32m, line 2\u001b[39m\n\u001b[32m      1\u001b[39m \u001b[38;5;66;03m# Our first assignment procedure\u001b[39;00m\n\u001b[32m----> \u001b[39m\u001b[32m2\u001b[39m \u001b[38;5;28mprint\u001b[39m(assign(participants, \u001b[43mdesign\u001b[49m))\n",
      "\u001b[31mNameError\u001b[39m: name 'design' is not defined"
     ]
    }
   ],
   "source": [
    "# Our first assignment procedure\n",
    "print(assign(participants, design))"
   ]
  },
  {
   "cell_type": "markdown",
   "metadata": {},
   "source": [
    "Notice that some conditions may be assigned more often than others. The mapping\n",
    "of pid to plan should change each time based on the random assignment. To ensure\n",
    "an equal number of participants are assigned to each condition, we can add a\n",
    "counterbalancing constraint:"
   ]
  },
  {
   "cell_type": "code",
   "execution_count": null,
   "metadata": {},
   "outputs": [],
   "source": [
    "# Now let's create a within-subjects design instead.\n",
    "\n",
    "design = (\n",
    "    design\n",
    "        .counterbalance(interface)\n",
    ")"
   ]
  },
  {
   "cell_type": "code",
   "execution_count": 17,
   "metadata": {},
   "outputs": [
    {
     "name": "stdout",
     "output_type": "stream",
     "text": [
      "interface\n",
      "***EXPERIMENT PLANS***\n",
      "\n",
      "plan 1:\n",
      "\ttrial 1: interface = baseline\n",
      "plan 2:\n",
      "\ttrial 1: interface = VR\n",
      "plan 3:\n",
      "\ttrial 1: interface = AR\n",
      " \n",
      "\n",
      "***ASSIGNMENT***\n",
      "\n",
      "    pid  plan\n",
      "0     1     0\n",
      "1     2     0\n",
      "2     3     1\n",
      "3     4     0\n",
      "4     5     2\n",
      "5     6     2\n",
      "6     7     1\n",
      "7     8     0\n",
      "8     9     2\n",
      "9    10     1\n",
      "10   11     1\n",
      "11   12     2\n"
     ]
    }
   ],
   "source": [
    "print(assign(participants, design))"
   ]
  },
  {
   "cell_type": "markdown",
   "metadata": {},
   "source": [
    "## Step 3: Within-subjects Designs\n",
    "Now, we can explore more complicated designs. A variable is within-subjects in\n",
    "an experiment if a participant is assigned two or more of it's conditions. Let's\n",
    "construct a new design with interface as a within-subjects variable:"
   ]
  },
  {
   "cell_type": "code",
   "execution_count": null,
   "metadata": {},
   "outputs": [],
   "source": [
    "design = (\n",
    "    Design()\n",
    "        .within_subjects() # include interface as argument\n",
    ")"
   ]
  },
  {
   "cell_type": "markdown",
   "metadata": {},
   "source": [
    "The following output shows the result of assigning conditions using a\n",
    "within-subjects design. Each unit is assigned all three conditions, which appear\n",
    "in different orders."
   ]
  },
  {
   "cell_type": "code",
   "execution_count": 37,
   "metadata": {},
   "outputs": [
    {
     "name": "stdout",
     "output_type": "stream",
     "text": [
      "***EXPERIMENT PLANS***\n",
      "\n",
      "plan 1:\n",
      "\ttrial 1: interface = AR\n",
      "\ttrial 2: interface = baseline\n",
      "\ttrial 3: interface = VR\n",
      "plan 2:\n",
      "\ttrial 1: interface = AR\n",
      "\ttrial 2: interface = VR\n",
      "\ttrial 3: interface = baseline\n",
      "plan 3:\n",
      "\ttrial 1: interface = baseline\n",
      "\ttrial 2: interface = AR\n",
      "\ttrial 3: interface = VR\n",
      "plan 4:\n",
      "\ttrial 1: interface = AR\n",
      "\ttrial 2: interface = baseline\n",
      "\ttrial 3: interface = VR\n",
      "plan 5:\n",
      "\ttrial 1: interface = VR\n",
      "\ttrial 2: interface = baseline\n",
      "\ttrial 3: interface = AR\n",
      "plan 6:\n",
      "\ttrial 1: interface = VR\n",
      "\ttrial 2: interface = AR\n",
      "\ttrial 3: interface = baseline\n",
      "plan 7:\n",
      "\ttrial 1: interface = VR\n",
      "\ttrial 2: interface = AR\n",
      "\ttrial 3: interface = baseline\n",
      "plan 8:\n",
      "\ttrial 1: interface = AR\n",
      "\ttrial 2: interface = VR\n",
      "\ttrial 3: interface = baseline\n",
      "plan 9:\n",
      "\ttrial 1: interface = VR\n",
      "\ttrial 2: interface = AR\n",
      "\ttrial 3: interface = baseline\n",
      "plan 10:\n",
      "\ttrial 1: interface = VR\n",
      "\ttrial 2: interface = AR\n",
      "\ttrial 3: interface = baseline\n",
      "plan 11:\n",
      "\ttrial 1: interface = baseline\n",
      "\ttrial 2: interface = AR\n",
      "\ttrial 3: interface = VR\n",
      "plan 12:\n",
      "\ttrial 1: interface = baseline\n",
      "\ttrial 2: interface = AR\n",
      "\ttrial 3: interface = VR\n",
      " \n",
      "\n",
      "***ASSIGNMENT***\n",
      "\n",
      "    pid  plan\n",
      "0     1     5\n",
      "1     2     9\n",
      "2     3     8\n",
      "3     4     7\n",
      "4     5     6\n",
      "5     6    11\n",
      "6     7    10\n",
      "7     8     0\n",
      "8     9     1\n",
      "9    10     2\n",
      "10   11     4\n",
      "11   12     3\n"
     ]
    }
   ],
   "source": [
    "print(assign(participants, design))"
   ]
  },
  {
   "cell_type": "markdown",
   "metadata": {},
   "source": [
    "Theoretically, there is a chance\n",
    "that we assign every unit the same order! Counterbalancing prevents this by\n",
    "enforcing that every condition appears an equal number of times:"
   ]
  },
  {
   "cell_type": "code",
   "execution_count": null,
   "metadata": {},
   "outputs": [],
   "source": [
    "design = (\n",
    "    design\n",
    "        .counterbalance() # include interface as an argument\n",
    ")"
   ]
  },
  {
   "cell_type": "code",
   "execution_count": 39,
   "metadata": {},
   "outputs": [
    {
     "name": "stdout",
     "output_type": "stream",
     "text": [
      "interface\n",
      "***EXPERIMENT PLANS***\n",
      "\n",
      "plan 1:\n",
      "\ttrial 1: interface = baseline\n",
      "\ttrial 2: interface = AR\n",
      "\ttrial 3: interface = VR\n",
      "plan 2:\n",
      "\ttrial 1: interface = AR\n",
      "\ttrial 2: interface = baseline\n",
      "\ttrial 3: interface = VR\n",
      "plan 3:\n",
      "\ttrial 1: interface = VR\n",
      "\ttrial 2: interface = AR\n",
      "\ttrial 3: interface = baseline\n",
      "plan 4:\n",
      "\ttrial 1: interface = AR\n",
      "\ttrial 2: interface = VR\n",
      "\ttrial 3: interface = baseline\n",
      "plan 5:\n",
      "\ttrial 1: interface = baseline\n",
      "\ttrial 2: interface = VR\n",
      "\ttrial 3: interface = AR\n",
      "plan 6:\n",
      "\ttrial 1: interface = VR\n",
      "\ttrial 2: interface = baseline\n",
      "\ttrial 3: interface = AR\n",
      " \n",
      "\n",
      "***ASSIGNMENT***\n",
      "\n",
      "    pid  plan\n",
      "0     1     2\n",
      "1     2     4\n",
      "2     3     0\n",
      "3     4     1\n",
      "4     5     3\n",
      "5     6     4\n",
      "6     7     2\n",
      "7     8     3\n",
      "8     9     0\n",
      "9    10     5\n",
      "10   11     1\n",
      "11   12     5\n"
     ]
    }
   ],
   "source": [
    "print(assign(participants, design))"
   ]
  },
  {
   "cell_type": "markdown",
   "metadata": {},
   "source": [
    "PLanet first constructs all viable plans, and then maps each plan the the\n",
    "experimental unit. "
   ]
  },
  {
   "cell_type": "markdown",
   "metadata": {},
   "source": [
    "By default, the design assigns every condition to each unit. We can define a\n",
    "design where we assign two conditions to each unit and there are three\n",
    "conditions: "
   ]
  },
  {
   "cell_type": "code",
   "execution_count": 40,
   "metadata": {},
   "outputs": [
    {
     "name": "stdout",
     "output_type": "stream",
     "text": [
      "***EXPERIMENT PLANS***\n",
      "\n",
      "plan 1:\n",
      "\ttrial 1: interface = baseline\n",
      "\ttrial 2: interface = AR\n",
      "\ttrial 3: interface = VR\n",
      "plan 2:\n",
      "\ttrial 1: interface = AR\n",
      "\ttrial 2: interface = baseline\n",
      "\ttrial 3: interface = VR\n",
      "plan 3:\n",
      "\ttrial 1: interface = VR\n",
      "\ttrial 2: interface = AR\n",
      "\ttrial 3: interface = baseline\n",
      "plan 4:\n",
      "\ttrial 1: interface = AR\n",
      "\ttrial 2: interface = VR\n",
      "\ttrial 3: interface = baseline\n",
      "plan 5:\n",
      "\ttrial 1: interface = baseline\n",
      "\ttrial 2: interface = VR\n",
      "\ttrial 3: interface = AR\n",
      "plan 6:\n",
      "\ttrial 1: interface = VR\n",
      "\ttrial 2: interface = baseline\n",
      "\ttrial 3: interface = AR\n",
      " \n",
      "\n",
      "***ASSIGNMENT***\n",
      "\n",
      "    pid  plan\n",
      "0     1     5\n",
      "1     2     0\n",
      "2     3     5\n",
      "3     4     2\n",
      "4     5     1\n",
      "5     6     3\n",
      "6     7     3\n",
      "7     8     4\n",
      "8     9     0\n",
      "9    10     1\n",
      "10   11     2\n",
      "11   12     4\n"
     ]
    }
   ],
   "source": [
    "design = (design\n",
    "          .num_trials(2)\n",
    ")\n",
    "\n",
    "print(assign(participants, design))\n"
   ]
  },
  {
   "cell_type": "markdown",
   "metadata": {},
   "source": [
    "## Step 4: Latin square Designs\n",
    "This introduces a new operation that allows you to construct Latin\n",
    "squares. Latin squares are a particular type of counterbalanced design, where\n",
    "every condition appears in every position of an order once. So, for\n",
    "counterbalanced designs with three conditions, there are only three possible\n",
    "orders. We will start with a regular counterbalanced design: "
   ]
  },
  {
   "cell_type": "code",
   "execution_count": 43,
   "metadata": {},
   "outputs": [],
   "source": [
    "task = ExperimentVariable(\n",
    "    name = \"task\",\n",
    "    options=[\"run\", \"walk\", \"sprint\"]\n",
    ")\n",
    "\n",
    "task_design = (\n",
    "    Design()\n",
    "    .within_subjects(task)\n",
    "    .counterbalance(task)\n",
    ")\n"
   ]
  },
  {
   "cell_type": "markdown",
   "metadata": {},
   "source": [
    "This is a fully-counterbalanced design. We can constrain the design using the\n",
    "*limit_plans* operation to create a Latin square:"
   ]
  },
  {
   "cell_type": "code",
   "execution_count": 44,
   "metadata": {},
   "outputs": [],
   "source": [
    "design = (\n",
    "    design\n",
    "    .limit_groups(len(task))\n",
    ")"
   ]
  },
  {
   "cell_type": "markdown",
   "metadata": {},
   "source": [
    "When we run the assignment procedure, PLanet constructs three plans, ensuring\n",
    "that the task conditions are counterbalanced:"
   ]
  },
  {
   "cell_type": "code",
   "execution_count": null,
   "metadata": {},
   "outputs": [],
   "source": [
    "print(assign(participants, design))"
   ]
  },
  {
   "cell_type": "markdown",
   "metadata": {},
   "source": [
    "## Step 5: Composing Designs\n",
    "Great! We created two designs that specify assignment procedures for different\n",
    "variable. We can also compose these procedures into one design using *nest* and\n",
    "*cross* This section introduces *nest*."
   ]
  },
  {
   "cell_type": "markdown",
   "metadata": {},
   "source": [
    "### Nesting\n",
    "Nest creates a new design based on the constraints of two subdesigns (i.e.,\n",
    "$task\\_design$ and $interface\\_design$). The possible plans specified by the\n",
    "*inner* design are nested within each trial of the *outer* design. \n",
    "\n",
    "\n",
    "![Nesting](nest.png)"
   ]
  },
  {
   "cell_type": "code",
   "execution_count": null,
   "metadata": {},
   "outputs": [],
   "source": [
    "design = nest(inner=design, outer=task_design)"
   ]
  },
  {
   "cell_type": "markdown",
   "metadata": {},
   "source": [
    "Let's examine the possible plans:"
   ]
  },
  {
   "cell_type": "code",
   "execution_count": null,
   "metadata": {},
   "outputs": [],
   "source": [
    "print(assign(participants, design))"
   ]
  },
  {
   "cell_type": "markdown",
   "metadata": {},
   "source": [
    "## Step 6: Replication\n",
    "Sometimes, we want to assign the same experimental condition multiple times. We can replicate\n",
    "conditions by nesting a non-empty design with an *empty* design. Empty designs\n",
    "assign arbitrary conditions to users. To define an empty design, we do not\n",
    "include any variables in the experiment. The number of trials will indicate the\n",
    "number of replications after nesting the empty design. "
   ]
  },
  {
   "cell_type": "code",
   "execution_count": 2,
   "metadata": {},
   "outputs": [
    {
     "ename": "NameError",
     "evalue": "name 'task_design' is not defined",
     "output_type": "error",
     "traceback": [
      "\u001b[31m---------------------------------------------------------------------------\u001b[39m",
      "\u001b[31mNameError\u001b[39m                                 Traceback (most recent call last)",
      "\u001b[36mCell\u001b[39m\u001b[36m \u001b[39m\u001b[32mIn[2]\u001b[39m\u001b[32m, line 6\u001b[39m\n\u001b[32m      1\u001b[39m block = (\n\u001b[32m      2\u001b[39m     Design()\n\u001b[32m      3\u001b[39m     .num_trials(\u001b[32m2\u001b[39m)\n\u001b[32m      4\u001b[39m )\n\u001b[32m----> \u001b[39m\u001b[32m6\u001b[39m design = nest(inner=block, outer=\u001b[43mtask_design\u001b[49m)\n",
      "\u001b[31mNameError\u001b[39m: name 'task_design' is not defined"
     ]
    }
   ],
   "source": [
    "block = (\n",
    "    Design()\n",
    "    .num_trials(2)\n",
    ")\n",
    "\n",
    "design = nest(inner=block, outer=task_design)"
   ]
  },
  {
   "cell_type": "markdown",
   "metadata": {},
   "source": [
    "This repeats each condition in-a-row ([a, b] -> [a, a, b, b]).\n",
    "Alternatively, we could repeat the orders ([a, b] -> [a, b, a, b])"
   ]
  },
  {
   "cell_type": "code",
   "execution_count": 58,
   "metadata": {},
   "outputs": [
    {
     "ename": "NameError",
     "evalue": "name 'ExperimentVariable' is not defined",
     "output_type": "error",
     "traceback": [
      "\u001b[31m---------------------------------------------------------------------------\u001b[39m",
      "\u001b[31mNameError\u001b[39m                                 Traceback (most recent call last)",
      "\u001b[36mCell\u001b[39m\u001b[36m \u001b[39m\u001b[32mIn[58]\u001b[39m\u001b[32m, line 6\u001b[39m\n\u001b[32m      1\u001b[39m block = (\n\u001b[32m      2\u001b[39m     Design()\n\u001b[32m      3\u001b[39m     .num_trials(\u001b[32m2\u001b[39m)\n\u001b[32m      4\u001b[39m )\n\u001b[32m----> \u001b[39m\u001b[32m6\u001b[39m design = \u001b[43mnest\u001b[49m\u001b[43m(\u001b[49m\u001b[43minner\u001b[49m\u001b[43m=\u001b[49m\u001b[43mtask_design\u001b[49m\u001b[43m,\u001b[49m\u001b[43m \u001b[49m\u001b[43mouter\u001b[49m\u001b[43m=\u001b[49m\u001b[43mblock\u001b[49m\u001b[43m)\u001b[49m\n",
      "\u001b[36mFile \u001b[39m\u001b[32m~/Documents/projects/ucla/experimental-design-dsl/src/planet/nest.py:192\u001b[39m, in \u001b[36mnest\u001b[39m\u001b[34m(outer, inner)\u001b[39m\n\u001b[32m    180\u001b[39m \u001b[38;5;250m\u001b[39m\u001b[33;03m\"\"\"\u001b[39;00m\n\u001b[32m    181\u001b[39m \u001b[33;03mNest two designs together to create a combined experimental design.\u001b[39;00m\n\u001b[32m    182\u001b[39m \u001b[33;03m\u001b[39;00m\n\u001b[32m   (...)\u001b[39m\u001b[32m    188\u001b[39m \u001b[33;03m    Combined design object\u001b[39;00m\n\u001b[32m    189\u001b[39m \u001b[33;03m\"\"\"\u001b[39;00m\n\u001b[32m    191\u001b[39m \u001b[38;5;66;03m# possibly FIXME?\u001b[39;00m\n\u001b[32m--> \u001b[39m\u001b[32m192\u001b[39m outer = \u001b[43mhandle_empty_design\u001b[49m\u001b[43m(\u001b[49m\u001b[43mouter\u001b[49m\u001b[43m)\u001b[49m\n\u001b[32m    193\u001b[39m inner = handle_empty_design(inner)\n\u001b[32m    196\u001b[39m \u001b[38;5;66;03m# FIXME: problem with norepeat when recursive nest and nested design is\u001b[39;00m\n\u001b[32m    197\u001b[39m \u001b[38;5;66;03m# outer design of a new nested design\u001b[39;00m\n\u001b[32m    198\u001b[39m \n\u001b[32m    199\u001b[39m \u001b[38;5;66;03m# first, check if one design is random\u001b[39;00m\n\u001b[32m    200\u001b[39m \u001b[38;5;66;03m# if so, conver to a special replications type.\u001b[39;00m\n",
      "\u001b[36mFile \u001b[39m\u001b[32m~/Documents/projects/ucla/experimental-design-dsl/src/planet/nest.py:173\u001b[39m, in \u001b[36mhandle_empty_design\u001b[39m\u001b[34m(des)\u001b[39m\n\u001b[32m    171\u001b[39m des = copy.copy(des)\n\u001b[32m    172\u001b[39m \u001b[38;5;28;01mif\u001b[39;00m des.is_empty:\n\u001b[32m--> \u001b[39m\u001b[32m173\u001b[39m     var = \u001b[43mExperimentVariable\u001b[49m(\u001b[33m\"\u001b[39m\u001b[33mbase\u001b[39m\u001b[33m\"\u001b[39m, \u001b[32m1\u001b[39m)\n\u001b[32m    174\u001b[39m     des._add_variable(var)\n\u001b[32m    175\u001b[39m     des.groups = Groups(\u001b[32m1\u001b[39m)\n",
      "\u001b[31mNameError\u001b[39m: name 'ExperimentVariable' is not defined"
     ]
    }
   ],
   "source": [
    "block = (\n",
    "    Design()\n",
    "    .num_trials(2)\n",
    ")\n",
    "\n",
    "design = nest(inner=task_design, outer=block)\n"
   ]
  },
  {
   "cell_type": "markdown",
   "metadata": {},
   "source": [
    "## Step 6: $set\\_rank$\n",
    "Lastly, we invite you to explore the $set\\_rank$ operation. *Ranks* determine the order\n",
    "presedence of variable conditons. The default rank is 0 for all conditions of a\n",
    "variable. Higher-ranked conditions come before all lower-ranked conditions in\n",
    "within-subjects designs. For example, if we set the rank of baseline to 1, baseline\n",
    "always\n",
    "comes first. Run the code and observe the output: "
   ]
  },
  {
   "cell_type": "code",
   "execution_count": 7,
   "metadata": {},
   "outputs": [
    {
     "name": "stdout",
     "output_type": "stream",
     "text": [
      "task\n",
      "{0: 1, 1: 0, 2: 0}\n",
      "[<planet.variable.ExperimentVariable object at 0x11b410750>]\n",
      "***EXPERIMENT PLANS***\n",
      "\n",
      "plan 1:\n",
      "\ttrial 1: task = run\n",
      "\ttrial 2: task = sprint\n",
      "\ttrial 3: task = walk\n",
      "plan 2:\n",
      "\ttrial 1: task = run\n",
      "\ttrial 2: task = walk\n",
      "\ttrial 3: task = sprint\n",
      " \n",
      "\n",
      "***ASSIGNMENT***\n",
      "\n",
      "   pid  plan\n",
      "0    1     0\n",
      "1    2     0\n",
      "2    3     1\n",
      "3    4     1\n"
     ]
    }
   ],
   "source": [
    "task = ExperimentVariable(\n",
    "    name = \"task\",\n",
    "    options=[\"run\", \"walk\", \"sprint\"]\n",
    ")\n",
    "\n",
    "participants = Units(4)\n",
    "\n",
    "task_design = (\n",
    "    Design()\n",
    "    .within_subjects(task)\n",
    "    .absolute_rank(task, \"run\", 1)\n",
    ")\n",
    "\n",
    "print(assign(participants, task_design))"
   ]
  },
  {
   "cell_type": "markdown",
   "metadata": {},
   "source": [
    "Notice that walk and sprint can appear in any order, as long as they both come run. "
   ]
  },
  {
   "cell_type": "markdown",
   "metadata": {},
   "source": [
    "## Conclusion\n",
    "Congrats! You're done with the tutorial. Now that you're familiar with PLanet's core features, try authoring your own experimental design from scratch using the starter code! Don't worry if you didn't remember everything.\n",
    "You can always reference the tutorial again. "
   ]
  }
 ],
 "metadata": {
  "kernelspec": {
   "display_name": "venv",
   "language": "python",
   "name": "python3"
  },
  "language_info": {
   "codemirror_mode": {
    "name": "ipython",
    "version": 3
   },
   "file_extension": ".py",
   "mimetype": "text/x-python",
   "name": "python",
   "nbconvert_exporter": "python",
   "pygments_lexer": "ipython3",
   "version": "3.11.0"
  }
 },
 "nbformat": 4,
 "nbformat_minor": 2
}
